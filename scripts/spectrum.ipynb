{
 "cells": [
  {
   "cell_type": "code",
   "execution_count": 1,
   "metadata": {},
   "outputs": [],
   "source": [
    "import os\n",
    "import matplotlib.pyplot as plt \n",
    "import pandas as pd\n",
    "import numpy as np\n",
    "from lmfit import models\n",
    "from pathlib import Path\n",
    "from astropy.io import fits\n",
    "import scipy.constants as sc\n",
    "import astropy.constants as ac"
   ]
  },
  {
   "cell_type": "code",
   "execution_count": 2,
   "metadata": {},
   "outputs": [],
   "source": [
    "def pixels_to_wavelenghts(pixel, slope, intercept):\n",
    "    '''\n",
    "    This function converts pixel values to wavelengths using a linear model to be determined by a fit.\n",
    "    '''\n",
    "    return slope * pixel + intercept\n",
    "\n",
    "def import_files(path, filename):\n",
    "    '''\n",
    "    Import files in the syntax that I used in the notebook. That is, choose the path that contains\n",
    "    all the fit files, then for the filename choose something like bias* to obtain all bias files\n",
    "    as a dictionary that can be accessed by filename \n",
    "    '''\n",
    "    files =  [ p for p in Path(path).glob(filename) ]\n",
    "    file_dict = dict()\n",
    "    for file in files:\n",
    "        file_dict[os.path.basename(file)] = fits.getdata(file) # key of the dict is the filename.\n",
    "\n",
    "    headers_dict = dict()\n",
    "    for x in file_dict.keys():\n",
    "        headers_dict[x] = fits.getheader(path + x)\n",
    "\n",
    "    return file_dict, headers_dict \n",
    "\n",
    "def get_peak_wavelength(wavelengths, irradiances):\n",
    "    index = list(irradiances).index(max(irradiances))\n",
    "    return  wavelengths[index]\n",
    "\n",
    "def get_effective_temperature(wavelength_peak):\n",
    "    return ( 2.897771955 * 10**-3 ) / (wavelength_peak * 10**-9)\n",
    "\n",
    "def stack(values):\n",
    "    return  np.median( [ x for x in values ], axis=0 )\n",
    "\n",
    "def planck_scaled(temperature, wavelength):\n",
    "    return (S := ( ( ( ac.R_sun / ac.au ) ** 2 )  *  ( 2 * sc.Planck * sc.speed_of_light ** 2 ) /\n",
    "        ( (wavelength**5) * ( np.exp( ( sc.Planck * sc.speed_of_light) / ( wavelength * sc.k * temperature ) ) - 1 ) ) ) )\n"
   ]
  },
  {
   "cell_type": "markdown",
   "metadata": {},
   "source": [
    "Import fraunhofer lines"
   ]
  },
  {
   "cell_type": "code",
   "execution_count": 3,
   "metadata": {},
   "outputs": [
    {
     "data": {
      "text/plain": [
       "Index(['name', 'wavelength', 'pixel', 'intensity'], dtype='object')"
      ]
     },
     "execution_count": 3,
     "metadata": {},
     "output_type": "execute_result"
    }
   ],
   "source": [
    "df_fl = pd.read_csv('../data/fraunhofer_lines.csv')\n",
    "df_fl.keys()"
   ]
  },
  {
   "cell_type": "code",
   "execution_count": 4,
   "metadata": {},
   "outputs": [
    {
     "name": "stdout",
     "output_type": "stream",
     "text": [
      "Light Frame Light Frame Dark Frame Bias Frame\n"
     ]
    }
   ],
   "source": [
    "flat_dict, flat_headers = import_files(\n",
    "    \"C:/Users/bvptr/academia/physics/year2/natuurkunde_en_sterrenkunde_practicum2/solar_physics_non_git/solar_physics_data/NP2 zonnefysica/20211112 - LISA daglicht spectra/\" ,\n",
    "    \"flat_alt*\"\n",
    ")\n",
    "\n",
    "light_dict, light_headers = import_files(\n",
    "    \"C:/Users/bvptr/academia/physics/year2/natuurkunde_en_sterrenkunde_practicum2/solar_physics_non_git/solar_physics_data/20201109 sky zenith/\" ,\n",
    "    \"skyspectrum*\")\n",
    "\n",
    "dark_dict, dark_headers = import_files(\n",
    "    \"C:/Users/bvptr/academia/physics/year2/natuurkunde_en_sterrenkunde_practicum2/solar_physics_non_git/solar_physics_data/20201109 sky zenith/\" ,\n",
    "    \"Dark*\"\n",
    ")\n",
    "\n",
    "bias_dict, bias_headers = import_files(\n",
    "    \"C:/Users/bvptr/academia/physics/year2/natuurkunde_en_sterrenkunde_practicum2/solar_physics_non_git/solar_physics_data/NP2 zonnefysica/SunsetLISA/\" ,\n",
    "    \"bias*\"\n",
    ")\n",
    "\n",
    "print(\n",
    "    light_headers['skyspectrum zenit-0001.fit']['IMAGETYP'],\n",
    "    flat_headers['flat_alt-0001.fit']['IMAGETYP'],\n",
    "    dark_headers['Dark-0001.fit']['IMAGETYP'],\n",
    "    bias_headers['bias-001.fit']['IMAGETYP'],\n",
    ")"
   ]
  },
  {
   "cell_type": "markdown",
   "metadata": {},
   "source": [
    "### Calibration"
   ]
  },
  {
   "cell_type": "code",
   "execution_count": 5,
   "metadata": {},
   "outputs": [],
   "source": [
    "model = models.LinearModel()\n",
    "fit_pixel_wavelength = model.fit(x=df_fl['pixel'], data=df_fl['wavelength'])\n",
    "#print(fit_pixel_wavelength.params['slope'])\n",
    "#print(fit_pixel_wavelength.params['intercept'])\n",
    "#fit_pixel_wavelength.plot(xlabel='pixel', ylabel='Wavelength (nm)')"
   ]
  },
  {
   "cell_type": "markdown",
   "metadata": {},
   "source": [
    "### Stacking"
   ]
  },
  {
   "cell_type": "code",
   "execution_count": 6,
   "metadata": {},
   "outputs": [],
   "source": [
    "light_stack = stack( light_dict.values() )\n",
    "bias_master = stack( bias_dict.values() )"
   ]
  },
  {
   "cell_type": "code",
   "execution_count": 7,
   "metadata": {},
   "outputs": [],
   "source": [
    "flat_master = stack( [flat - bias_master for flat in flat_dict.values() ] )"
   ]
  },
  {
   "cell_type": "code",
   "execution_count": 8,
   "metadata": {},
   "outputs": [],
   "source": [
    "flat_master = flat_master / np.median(flat_master) # scale flat_master"
   ]
  },
  {
   "cell_type": "code",
   "execution_count": null,
   "metadata": {},
   "outputs": [],
   "source": [
    "#calibrated = [ (light - bias_master) / flat_master for light in light_stack ]"
   ]
  },
  {
   "cell_type": "markdown",
   "metadata": {},
   "source": [
    "### Single fit file case "
   ]
  },
  {
   "cell_type": "code",
   "execution_count": 28,
   "metadata": {},
   "outputs": [],
   "source": [
    "flat = fits.getdata(\"C:/Users/bvptr/academia/physics/year2/natuurkunde_en_sterrenkunde_practicum2/solar_physics_non_git/solar_physics_data/NP2 zonnefysica/20211112 - LISA daglicht spectra/flat_alt-0001.fit\" )\n",
    "light = fits.getdata(\"C:/Users/bvptr/academia/physics/year2/natuurkunde_en_sterrenkunde_practicum2/solar_physics_non_git/solar_physics_data/20201109 sky zenith/skyspectrum zenit-0001.fit\" )\n",
    "\n",
    "light_sum_before = np.sum (light, axis=0)\n",
    "light_sum = np.sum( light - bias_master, axis=0)\n",
    "\n",
    "flat_sum_before = np.sum (flat, axis=0)\n",
    "flat_sum = np.sum( flat - bias_master, axis=0)\n",
    "\n",
    "flat_scaled = flat_sum / np.median(flat_sum)\n",
    "light_scaled = light_sum / flat_scaled\n"
   ]
  },
  {
   "cell_type": "code",
   "execution_count": 29,
   "metadata": {},
   "outputs": [
    {
     "data": {
      "text/plain": [
       "[<matplotlib.lines.Line2D at 0x1aad5a0cf40>]"
      ]
     },
     "execution_count": 29,
     "metadata": {},
     "output_type": "execute_result"
    },
    {
     "data": {
      "image/png": "[encoded data removed]",
      "text/plain": [
       "<Figure size 432x288 with 1 Axes>"
      ]
     },
     "metadata": {
      "needs_background": "light"
     },
     "output_type": "display_data"
    }
   ],
   "source": [
    "#plt.plot(flat_scaled)\n",
    "plt.plot(light_sum / np.max(light_sum))\n",
    "plt.plot(light_scaled / np.max(light_scaled))"
   ]
  },
  {
   "cell_type": "code",
   "execution_count": null,
   "metadata": {},
   "outputs": [],
   "source": [
    "light_sum = np.sum( light_stack, axis=0)"
   ]
  },
  {
   "cell_type": "code",
   "execution_count": null,
   "metadata": {},
   "outputs": [],
   "source": [
    "calibrated_sum = np.sum(calibrated, axis=0)"
   ]
  },
  {
   "cell_type": "markdown",
   "metadata": {},
   "source": [
    "### Convert to wavelengths"
   ]
  },
  {
   "cell_type": "code",
   "execution_count": 14,
   "metadata": {},
   "outputs": [
    {
     "ename": "NameError",
     "evalue": "name 'spectrum' is not defined",
     "output_type": "error",
     "traceback": [
      "\u001b[1;31m---------------------------------------------------------------------------\u001b[0m",
      "\u001b[1;31mNameError\u001b[0m                                 Traceback (most recent call last)",
      "\u001b[1;32m~\\AppData\\Local\\Temp/ipykernel_4204/4269723158.py\u001b[0m in \u001b[0;36m<module>\u001b[1;34m\u001b[0m\n\u001b[1;32m----> 1\u001b[1;33m \u001b[0mwavelengths\u001b[0m \u001b[1;33m=\u001b[0m \u001b[0mpixels_to_wavelenghts\u001b[0m\u001b[1;33m(\u001b[0m\u001b[0mrange\u001b[0m\u001b[1;33m(\u001b[0m\u001b[0mlen\u001b[0m\u001b[1;33m(\u001b[0m\u001b[0mspectrum\u001b[0m\u001b[1;33m)\u001b[0m\u001b[1;33m)\u001b[0m\u001b[1;33m,\u001b[0m \u001b[0mfit_pixel_wavelength\u001b[0m\u001b[1;33m.\u001b[0m\u001b[0mvalues\u001b[0m\u001b[1;33m[\u001b[0m\u001b[1;34m'slope'\u001b[0m\u001b[1;33m]\u001b[0m\u001b[1;33m,\u001b[0m \u001b[0mfit_pixel_wavelength\u001b[0m\u001b[1;33m.\u001b[0m\u001b[0mvalues\u001b[0m\u001b[1;33m[\u001b[0m\u001b[1;34m'intercept'\u001b[0m\u001b[1;33m]\u001b[0m\u001b[1;33m)\u001b[0m\u001b[1;33m\u001b[0m\u001b[1;33m\u001b[0m\u001b[0m\n\u001b[0m",
      "\u001b[1;31mNameError\u001b[0m: name 'spectrum' is not defined"
     ]
    }
   ],
   "source": [
    "wavelengths = pixels_to_wavelenghts(range(len(spectrum)), fit_pixel_wavelength.values['slope'], fit_pixel_wavelength.values['intercept'])"
   ]
  },
  {
   "cell_type": "markdown",
   "metadata": {},
   "source": [
    "### Crude method to determine effective temperature."
   ]
  },
  {
   "cell_type": "code",
   "execution_count": null,
   "metadata": {},
   "outputs": [],
   "source": [
    "T_accepted = 5772\n",
    "print(wavelength_peak := get_peak_wavelength(wavelengths, spectrum)) # 481.6998282285298\n",
    "print(T_eff := get_effective_temperature(wavelength_peak)) # 6015.72137913495\n",
    "print(\"%f%% error from the accepted value.\" % float( ( T_eff / T_accepted ) * 100 - 100) ) #4.22% error"
   ]
  },
  {
   "cell_type": "code",
   "execution_count": null,
   "metadata": {},
   "outputs": [],
   "source": [
    "plt.xlabel('wavelength (nm)')\n",
    "plt.ylabel('intensity (counts)')\n",
    "plt.plot(wavelengths, spectrum)"
   ]
  },
  {
   "cell_type": "code",
   "execution_count": null,
   "metadata": {},
   "outputs": [],
   "source": [
    "df = pd.DataFrame({'spectral irradiance' : spectrum, 'wavelength' : wavelengths})\n",
    "df.to_csv(\"./data/to_fit.csv\")"
   ]
  },
  {
   "cell_type": "markdown",
   "metadata": {},
   "source": [
    "### Vega"
   ]
  },
  {
   "cell_type": "code",
   "execution_count": 41,
   "metadata": {},
   "outputs": [],
   "source": [
    "flat = fits.getdata(\"C:/Users/bvptr/academia/physics/year2/natuurkunde_en_sterrenkunde_practicum2/solar_physics_non_git/solar_physics_data/NP2 zonnefysica/20211112 - LISA daglicht spectra/flat_alt-0001.fit\" )\n",
    "vega_light = fits.getdata(\"C:/Users/bvptr/academia/physics/year2/natuurkunde_en_sterrenkunde_practicum2/solar_physics/data/Vega-0005_2s.fit\" )\n",
    "\n",
    "vega_sum_before_bias = np.sum( vega_light, axis=0 )\n",
    "vega_sum = np.sum( vega_light - bias_master, axis=0 )\n",
    "\n",
    "#flat_sum_before = np.sum (flat, axis=0)\n",
    "#flat_sum = np.sum( flat - bias_master, axis=0)\n",
    "\n",
    "#flat_scaled = flat_sum / np.median(flat_sum)\n",
    "#light_scaled = light_sum / flat_scaled\n"
   ]
  },
  {
   "cell_type": "code",
   "execution_count": 42,
   "metadata": {},
   "outputs": [
    {
     "data": {
      "text/plain": [
       "<Figure size 432x288 with 0 Axes>"
      ]
     },
     "execution_count": 42,
     "metadata": {},
     "output_type": "execute_result"
    },
    {
     "data": {
      "image/png": "[encoded data removed]",
      "text/plain": [
       "<Figure size 432x288 with 1 Axes>"
      ]
     },
     "metadata": {
      "needs_background": "light"
     },
     "output_type": "display_data"
    },
    {
     "data": {
      "text/plain": [
       "<Figure size 432x288 with 0 Axes>"
      ]
     },
     "metadata": {},
     "output_type": "display_data"
    }
   ],
   "source": [
    "plt.plot(vega_sum_before_bias / np.max(vega_sum_before_bias))\n",
    "plt.plot(vega_sum / np.max(vega_sum))\n",
    "plt.figure()\n",
    "#plt.plot(light_scaled / np.max(light_sum))"
   ]
  },
  {
   "cell_type": "code",
   "execution_count": null,
   "metadata": {},
   "outputs": [],
   "source": []
  }
 ],
 "metadata": {
  "interpreter": {
   "hash": "d7c6a17af8d17b7a7d70ad977ab0550fcbcb4738d96dd52e3eeab03a86aeccfc"
  },
  "kernelspec": {
   "display_name": "Python 3.9.7 64-bit ('solar_physics': conda)",
   "language": "python",
   "name": "python3"
  },
  "language_info": {
   "codemirror_mode": {
    "name": "ipython",
    "version": 3
   },
   "file_extension": ".py",
   "mimetype": "text/x-python",
   "name": "python",
   "nbconvert_exporter": "python",
   "pygments_lexer": "ipython3",
   "version": "3.9.7"
  },
  "orig_nbformat": 4
 },
 "nbformat": 4,
 "nbformat_minor": 2
}
