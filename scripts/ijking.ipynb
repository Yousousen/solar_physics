{
 "cells": [
  {
   "cell_type": "code",
   "execution_count": 117,
   "metadata": {},
   "outputs": [],
   "source": [
    "import os\n",
    "from pathlib import Path\n",
    "from astropy.io import fits\n",
    "import numpy as np\n",
    "\n",
    "#pad naar de betreffende metingen, deze moet veranderd worden\n",
    "path = \"../data/\"\n",
    "files =  [ p for p in Path(path).glob('*.fit') ]\n",
    "\n",
    "data_dict = dict()\n",
    "for file in files:\n",
    "    data_dict[os.path.basename(file)] = fits.getdata(file)"
   ]
  },
  {
   "cell_type": "code",
   "execution_count": 118,
   "metadata": {},
   "outputs": [],
   "source": [
    "data_headers = dict()\n",
    "for x in data_dict.keys():\n",
    "    data_headers[x] = fits.getheader(path + x)"
   ]
  },
  {
   "cell_type": "code",
   "execution_count": 119,
   "metadata": {},
   "outputs": [
    {
     "data": {
      "text/plain": [
       "array([[ 992, 1055, 1034, ...,  730,  836,  313],\n",
       "       [1068,  971,  967, ...,  756,  747,  342],\n",
       "       [1015, 1030, 1043, ...,  738,  764,  331],\n",
       "       ...,\n",
       "       [ 992, 1063,  950, ...,  886,  914,  298],\n",
       "       [1025, 1037, 1066, ...,  901,  899,  311],\n",
       "       [1047, 1007, 1106, ...,  968,  935,  304]], dtype=uint16)"
      ]
     },
     "execution_count": 119,
     "metadata": {},
     "output_type": "execute_result"
    }
   ],
   "source": [
    "data_dict['neon-0001.fit']"
   ]
  },
  {
   "cell_type": "code",
   "execution_count": 34,
   "metadata": {},
   "outputs": [
    {
     "data": {
      "text/plain": [
       "<matplotlib.image.AxesImage at 0x2d6f3b824f0>"
      ]
     },
     "execution_count": 34,
     "metadata": {},
     "output_type": "execute_result"
    },
    {
     "data": {
      "image/png": "[encoded data removed]",
      "text/plain": [
       "<Figure size 432x288 with 1 Axes>"
      ]
     },
     "metadata": {
      "needs_background": "light"
     },
     "output_type": "display_data"
    }
   ],
   "source": [
    "import matplotlib.pyplot as plt \n",
    "plt.imshow(data_dict['neon-0001.fit'])"
   ]
  },
  {
   "cell_type": "code",
   "execution_count": 56,
   "metadata": {},
   "outputs": [
    {
     "ename": "ValueError",
     "evalue": "x and y must be the same size",
     "output_type": "error",
     "traceback": [
      "\u001b[1;31m---------------------------------------------------------------------------\u001b[0m",
      "\u001b[1;31mValueError\u001b[0m                                Traceback (most recent call last)",
      "\u001b[1;32m~\\AppData\\Local\\Temp/ipykernel_41580/3815913867.py\u001b[0m in \u001b[0;36m<module>\u001b[1;34m\u001b[0m\n\u001b[0;32m      5\u001b[0m \u001b[0mplt\u001b[0m\u001b[1;33m.\u001b[0m\u001b[0mylabel\u001b[0m\u001b[1;33m(\u001b[0m\u001b[1;34m'intesnity (counts)'\u001b[0m\u001b[1;33m)\u001b[0m\u001b[1;33m\u001b[0m\u001b[1;33m\u001b[0m\u001b[0m\n\u001b[0;32m      6\u001b[0m \u001b[0mplt\u001b[0m\u001b[1;33m.\u001b[0m\u001b[0mplot\u001b[0m\u001b[1;33m(\u001b[0m\u001b[0mspectrum\u001b[0m\u001b[1;33m)\u001b[0m\u001b[1;33m\u001b[0m\u001b[1;33m\u001b[0m\u001b[0m\n\u001b[1;32m----> 7\u001b[1;33m \u001b[0mplt\u001b[0m\u001b[1;33m.\u001b[0m\u001b[0mscatter\u001b[0m\u001b[1;33m(\u001b[0m\u001b[0mpeaks\u001b[0m\u001b[1;33m,\u001b[0m \u001b[0mpeak_prominences\u001b[0m\u001b[1;33m)\u001b[0m\u001b[1;33m\u001b[0m\u001b[1;33m\u001b[0m\u001b[0m\n\u001b[0m",
      "\u001b[1;32m~\\scoop\\apps\\anaconda3\\current\\envs\\zon\\lib\\site-packages\\matplotlib\\pyplot.py\u001b[0m in \u001b[0;36mscatter\u001b[1;34m(x, y, s, c, marker, cmap, norm, vmin, vmax, alpha, linewidths, edgecolors, plotnonfinite, data, **kwargs)\u001b[0m\n\u001b[0;32m   2805\u001b[0m         \u001b[0mvmin\u001b[0m\u001b[1;33m=\u001b[0m\u001b[1;32mNone\u001b[0m\u001b[1;33m,\u001b[0m \u001b[0mvmax\u001b[0m\u001b[1;33m=\u001b[0m\u001b[1;32mNone\u001b[0m\u001b[1;33m,\u001b[0m \u001b[0malpha\u001b[0m\u001b[1;33m=\u001b[0m\u001b[1;32mNone\u001b[0m\u001b[1;33m,\u001b[0m \u001b[0mlinewidths\u001b[0m\u001b[1;33m=\u001b[0m\u001b[1;32mNone\u001b[0m\u001b[1;33m,\u001b[0m \u001b[1;33m*\u001b[0m\u001b[1;33m,\u001b[0m\u001b[1;33m\u001b[0m\u001b[1;33m\u001b[0m\u001b[0m\n\u001b[0;32m   2806\u001b[0m         edgecolors=None, plotnonfinite=False, data=None, **kwargs):\n\u001b[1;32m-> 2807\u001b[1;33m     __ret = gca().scatter(\n\u001b[0m\u001b[0;32m   2808\u001b[0m         \u001b[0mx\u001b[0m\u001b[1;33m,\u001b[0m \u001b[0my\u001b[0m\u001b[1;33m,\u001b[0m \u001b[0ms\u001b[0m\u001b[1;33m=\u001b[0m\u001b[0ms\u001b[0m\u001b[1;33m,\u001b[0m \u001b[0mc\u001b[0m\u001b[1;33m=\u001b[0m\u001b[0mc\u001b[0m\u001b[1;33m,\u001b[0m \u001b[0mmarker\u001b[0m\u001b[1;33m=\u001b[0m\u001b[0mmarker\u001b[0m\u001b[1;33m,\u001b[0m \u001b[0mcmap\u001b[0m\u001b[1;33m=\u001b[0m\u001b[0mcmap\u001b[0m\u001b[1;33m,\u001b[0m \u001b[0mnorm\u001b[0m\u001b[1;33m=\u001b[0m\u001b[0mnorm\u001b[0m\u001b[1;33m,\u001b[0m\u001b[1;33m\u001b[0m\u001b[1;33m\u001b[0m\u001b[0m\n\u001b[0;32m   2809\u001b[0m         \u001b[0mvmin\u001b[0m\u001b[1;33m=\u001b[0m\u001b[0mvmin\u001b[0m\u001b[1;33m,\u001b[0m \u001b[0mvmax\u001b[0m\u001b[1;33m=\u001b[0m\u001b[0mvmax\u001b[0m\u001b[1;33m,\u001b[0m \u001b[0malpha\u001b[0m\u001b[1;33m=\u001b[0m\u001b[0malpha\u001b[0m\u001b[1;33m,\u001b[0m \u001b[0mlinewidths\u001b[0m\u001b[1;33m=\u001b[0m\u001b[0mlinewidths\u001b[0m\u001b[1;33m,\u001b[0m\u001b[1;33m\u001b[0m\u001b[1;33m\u001b[0m\u001b[0m\n",
      "\u001b[1;32m~\\scoop\\apps\\anaconda3\\current\\envs\\zon\\lib\\site-packages\\matplotlib\\__init__.py\u001b[0m in \u001b[0;36minner\u001b[1;34m(ax, data, *args, **kwargs)\u001b[0m\n\u001b[0;32m   1410\u001b[0m     \u001b[1;32mdef\u001b[0m \u001b[0minner\u001b[0m\u001b[1;33m(\u001b[0m\u001b[0max\u001b[0m\u001b[1;33m,\u001b[0m \u001b[1;33m*\u001b[0m\u001b[0margs\u001b[0m\u001b[1;33m,\u001b[0m \u001b[0mdata\u001b[0m\u001b[1;33m=\u001b[0m\u001b[1;32mNone\u001b[0m\u001b[1;33m,\u001b[0m \u001b[1;33m**\u001b[0m\u001b[0mkwargs\u001b[0m\u001b[1;33m)\u001b[0m\u001b[1;33m:\u001b[0m\u001b[1;33m\u001b[0m\u001b[1;33m\u001b[0m\u001b[0m\n\u001b[0;32m   1411\u001b[0m         \u001b[1;32mif\u001b[0m \u001b[0mdata\u001b[0m \u001b[1;32mis\u001b[0m \u001b[1;32mNone\u001b[0m\u001b[1;33m:\u001b[0m\u001b[1;33m\u001b[0m\u001b[1;33m\u001b[0m\u001b[0m\n\u001b[1;32m-> 1412\u001b[1;33m             \u001b[1;32mreturn\u001b[0m \u001b[0mfunc\u001b[0m\u001b[1;33m(\u001b[0m\u001b[0max\u001b[0m\u001b[1;33m,\u001b[0m \u001b[1;33m*\u001b[0m\u001b[0mmap\u001b[0m\u001b[1;33m(\u001b[0m\u001b[0msanitize_sequence\u001b[0m\u001b[1;33m,\u001b[0m \u001b[0margs\u001b[0m\u001b[1;33m)\u001b[0m\u001b[1;33m,\u001b[0m \u001b[1;33m**\u001b[0m\u001b[0mkwargs\u001b[0m\u001b[1;33m)\u001b[0m\u001b[1;33m\u001b[0m\u001b[1;33m\u001b[0m\u001b[0m\n\u001b[0m\u001b[0;32m   1413\u001b[0m \u001b[1;33m\u001b[0m\u001b[0m\n\u001b[0;32m   1414\u001b[0m         \u001b[0mbound\u001b[0m \u001b[1;33m=\u001b[0m \u001b[0mnew_sig\u001b[0m\u001b[1;33m.\u001b[0m\u001b[0mbind\u001b[0m\u001b[1;33m(\u001b[0m\u001b[0max\u001b[0m\u001b[1;33m,\u001b[0m \u001b[1;33m*\u001b[0m\u001b[0margs\u001b[0m\u001b[1;33m,\u001b[0m \u001b[1;33m**\u001b[0m\u001b[0mkwargs\u001b[0m\u001b[1;33m)\u001b[0m\u001b[1;33m\u001b[0m\u001b[1;33m\u001b[0m\u001b[0m\n",
      "\u001b[1;32m~\\scoop\\apps\\anaconda3\\current\\envs\\zon\\lib\\site-packages\\matplotlib\\axes\\_axes.py\u001b[0m in \u001b[0;36mscatter\u001b[1;34m(self, x, y, s, c, marker, cmap, norm, vmin, vmax, alpha, linewidths, edgecolors, plotnonfinite, **kwargs)\u001b[0m\n\u001b[0;32m   4321\u001b[0m         \u001b[0my\u001b[0m \u001b[1;33m=\u001b[0m \u001b[0mnp\u001b[0m\u001b[1;33m.\u001b[0m\u001b[0mma\u001b[0m\u001b[1;33m.\u001b[0m\u001b[0mravel\u001b[0m\u001b[1;33m(\u001b[0m\u001b[0my\u001b[0m\u001b[1;33m)\u001b[0m\u001b[1;33m\u001b[0m\u001b[1;33m\u001b[0m\u001b[0m\n\u001b[0;32m   4322\u001b[0m         \u001b[1;32mif\u001b[0m \u001b[0mx\u001b[0m\u001b[1;33m.\u001b[0m\u001b[0msize\u001b[0m \u001b[1;33m!=\u001b[0m \u001b[0my\u001b[0m\u001b[1;33m.\u001b[0m\u001b[0msize\u001b[0m\u001b[1;33m:\u001b[0m\u001b[1;33m\u001b[0m\u001b[1;33m\u001b[0m\u001b[0m\n\u001b[1;32m-> 4323\u001b[1;33m             \u001b[1;32mraise\u001b[0m \u001b[0mValueError\u001b[0m\u001b[1;33m(\u001b[0m\u001b[1;34m\"x and y must be the same size\"\u001b[0m\u001b[1;33m)\u001b[0m\u001b[1;33m\u001b[0m\u001b[1;33m\u001b[0m\u001b[0m\n\u001b[0m\u001b[0;32m   4324\u001b[0m \u001b[1;33m\u001b[0m\u001b[0m\n\u001b[0;32m   4325\u001b[0m         \u001b[1;32mif\u001b[0m \u001b[0ms\u001b[0m \u001b[1;32mis\u001b[0m \u001b[1;32mNone\u001b[0m\u001b[1;33m:\u001b[0m\u001b[1;33m\u001b[0m\u001b[1;33m\u001b[0m\u001b[0m\n",
      "\u001b[1;31mValueError\u001b[0m: x and y must be the same size"
     ]
    },
    {
     "data": {
      "image/png": "[encoded data removed]",
      "text/plain": [
       "<Figure size 432x288 with 1 Axes>"
      ]
     },
     "metadata": {
      "needs_background": "light"
     },
     "output_type": "display_data"
    }
   ],
   "source": [
    "stack = np.median([x for x in data_dict.values()], axis=0)\n",
    "spectrum = np.median(stack[0:700], axis=0)\n",
    "#plt.xticks(range(0, 1500, 100))\n",
    "plt.xlabel('pixel')\n",
    "plt.ylabel('intesnity (counts)')\n",
    "plt.plot(spectrum)\n",
    "plt.scatter(peaks, peak_prominences)"
   ]
  },
  {
   "cell_type": "code",
   "execution_count": 53,
   "metadata": {},
   "outputs": [
    {
     "data": {
      "text/plain": [
       "(700.0, 800.0)"
      ]
     },
     "execution_count": 53,
     "metadata": {},
     "output_type": "execute_result"
    },
    {
     "data": {
      "image/png": "[encoded data removed]",
      "text/plain": [
       "<Figure size 432x288 with 1 Axes>"
      ]
     },
     "metadata": {
      "needs_background": "light"
     },
     "output_type": "display_data"
    }
   ],
   "source": [
    "crop1 = np.median(spectrum[0:700], axis=0)\n",
    "crop1\n",
    "\n",
    "plt.plot(spectrum)\n",
    "plt.xlim(700, 800)"
   ]
  },
  {
   "cell_type": "code",
   "execution_count": 36,
   "metadata": {},
   "outputs": [
    {
     "data": {
      "text/plain": [
       "324"
      ]
     },
     "execution_count": 36,
     "metadata": {},
     "output_type": "execute_result"
    }
   ],
   "source": [
    "#determining the minimal values\n",
    "from scipy.signal import argrelextrema\n",
    "\n",
    "maxima = argrelextrema(spectrum, np.greater)\n",
    "len(maxima[0])"
   ]
  },
  {
   "cell_type": "code",
   "execution_count": 37,
   "metadata": {},
   "outputs": [
    {
     "name": "stdout",
     "output_type": "stream",
     "text": [
      "1 : 987.0\n",
      "12 : 984.0\n",
      "15 : 987.5\n",
      "23 : 998.0\n",
      "28 : 999.5\n",
      "31 : 1000.0\n",
      "33 : 1001.5\n",
      "37 : 999.5\n",
      "39 : 1001.0\n",
      "45 : 1005.0\n",
      "47 : 1007.0\n",
      "51 : 1005.0\n",
      "54 : 1007.0\n",
      "61 : 1005.0\n",
      "65 : 1002.0\n",
      "72 : 999.0\n",
      "74 : 1002.0\n",
      "77 : 995.0\n",
      "79 : 999.0\n",
      "85 : 994.5\n",
      "87 : 996.5\n",
      "89 : 997.0\n",
      "91 : 995.0\n",
      "95 : 996.0\n",
      "97 : 995.0\n",
      "100 : 1000.0\n",
      "106 : 996.5\n",
      "110 : 1007.0\n",
      "114 : 1009.5\n",
      "117 : 1006.0\n",
      "121 : 998.0\n",
      "124 : 999.0\n",
      "126 : 996.0\n",
      "128 : 992.5\n",
      "130 : 994.0\n",
      "132 : 994.5\n",
      "135 : 994.0\n",
      "141 : 1014.0\n",
      "144 : 995.5\n",
      "147 : 996.0\n",
      "149 : 994.5\n",
      "152 : 994.0\n",
      "156 : 997.0\n",
      "159 : 994.5\n",
      "164 : 993.0\n",
      "166 : 996.0\n",
      "169 : 1027.5\n",
      "174 : 1001.5\n",
      "179 : 992.5\n",
      "181 : 990.0\n",
      "183 : 993.0\n",
      "185 : 992.0\n",
      "188 : 991.0\n",
      "190 : 992.5\n",
      "193 : 991.0\n",
      "195 : 991.5\n",
      "197 : 988.5\n",
      "200 : 988.5\n",
      "202 : 990.0\n",
      "205 : 992.0\n",
      "207 : 991.0\n",
      "212 : 992.0\n",
      "214 : 988.0\n",
      "216 : 987.0\n",
      "219 : 990.5\n",
      "223 : 986.5\n",
      "225 : 990.0\n",
      "230 : 986.0\n",
      "232 : 987.0\n",
      "235 : 985.0\n",
      "238 : 987.0\n",
      "240 : 990.5\n",
      "243 : 987.0\n",
      "248 : 986.0\n",
      "252 : 987.5\n",
      "254 : 983.0\n",
      "257 : 987.0\n",
      "259 : 982.5\n",
      "262 : 983.0\n",
      "264 : 984.0\n",
      "269 : 982.5\n",
      "272 : 985.0\n",
      "281 : 981.0\n",
      "284 : 982.0\n",
      "286 : 981.5\n",
      "291 : 981.5\n",
      "296 : 982.0\n",
      "298 : 982.0\n",
      "303 : 983.0\n",
      "305 : 976.0\n",
      "307 : 979.0\n",
      "311 : 985.0\n",
      "316 : 984.5\n",
      "321 : 980.0\n",
      "323 : 979.0\n",
      "325 : 976.0\n",
      "329 : 978.0\n",
      "337 : 974.0\n",
      "339 : 974.0\n",
      "341 : 970.5\n",
      "345 : 971.0\n",
      "348 : 974.0\n",
      "356 : 971.0\n",
      "360 : 972.0\n",
      "362 : 973.0\n",
      "367 : 970.0\n",
      "370 : 968.5\n",
      "374 : 969.0\n",
      "376 : 967.0\n",
      "378 : 967.0\n",
      "383 : 966.5\n",
      "387 : 966.0\n",
      "390 : 963.0\n",
      "392 : 965.0\n",
      "395 : 963.5\n",
      "397 : 965.0\n",
      "399 : 961.0\n",
      "402 : 967.0\n",
      "404 : 968.0\n",
      "409 : 961.0\n",
      "411 : 960.0\n",
      "413 : 960.5\n",
      "417 : 963.0\n",
      "423 : 963.0\n",
      "426 : 959.0\n",
      "430 : 959.0\n",
      "432 : 959.0\n",
      "436 : 958.0\n",
      "438 : 959.0\n",
      "444 : 967.0\n",
      "453 : 951.0\n",
      "455 : 955.5\n",
      "458 : 956.0\n",
      "461 : 961.0\n",
      "465 : 955.5\n",
      "467 : 952.0\n",
      "469 : 953.5\n",
      "472 : 953.0\n",
      "475 : 966.0\n",
      "478 : 953.5\n",
      "482 : 953.5\n",
      "487 : 954.0\n",
      "490 : 952.0\n",
      "493 : 949.5\n",
      "495 : 948.0\n",
      "497 : 946.0\n",
      "500 : 946.5\n",
      "504 : 951.5\n",
      "509 : 950.0\n",
      "515 : 946.5\n",
      "523 : 942.0\n",
      "526 : 939.0\n",
      "532 : 940.0\n",
      "535 : 939.0\n",
      "537 : 940.0\n",
      "544 : 936.0\n",
      "546 : 939.0\n",
      "548 : 938.0\n",
      "553 : 934.0\n",
      "559 : 990.5\n",
      "563 : 994.0\n",
      "569 : 935.0\n",
      "571 : 934.5\n",
      "573 : 932.0\n",
      "575 : 934.0\n",
      "577 : 934.0\n",
      "580 : 930.0\n",
      "586 : 1501.0\n",
      "593 : 930.0\n",
      "595 : 927.0\n",
      "597 : 930.0\n",
      "599 : 928.0\n",
      "604 : 929.0\n",
      "609 : 925.0\n",
      "612 : 925.0\n",
      "614 : 924.0\n",
      "616 : 919.5\n",
      "621 : 923.0\n",
      "623 : 923.5\n",
      "625 : 925.5\n",
      "627 : 922.0\n",
      "630 : 922.0\n",
      "634 : 921.0\n",
      "637 : 920.0\n",
      "640 : 920.0\n",
      "643 : 921.0\n",
      "650 : 928.0\n",
      "657 : 920.0\n",
      "659 : 917.0\n",
      "661 : 918.0\n",
      "664 : 915.5\n",
      "666 : 915.0\n",
      "668 : 917.5\n",
      "675 : 915.0\n",
      "677 : 916.5\n",
      "682 : 917.0\n",
      "694 : 914.0\n",
      "696 : 912.5\n",
      "699 : 924.0\n",
      "704 : 914.0\n",
      "706 : 918.0\n",
      "710 : 923.0\n",
      "714 : 913.0\n",
      "718 : 918.0\n",
      "722 : 954.0\n",
      "728 : 1118.0\n",
      "733 : 919.0\n",
      "739 : 921.0\n",
      "744 : 951.5\n",
      "750 : 1060.0\n",
      "762 : 42735.5\n",
      "774 : 4363.5\n",
      "782 : 1007.0\n",
      "798 : 6683.5\n",
      "806 : 956.0\n",
      "810 : 2178.5\n",
      "816 : 942.0\n",
      "820 : 914.0\n",
      "822 : 909.5\n",
      "827 : 917.0\n",
      "832 : 2250.0\n",
      "837 : 918.0\n",
      "839 : 915.0\n",
      "849 : 6010.0\n",
      "857 : 9977.5\n",
      "866 : 936.0\n",
      "870 : 1161.0\n",
      "875 : 14568.5\n",
      "883 : 4272.5\n",
      "891 : 930.0\n",
      "895 : 908.0\n",
      "904 : 3130.0\n",
      "913 : 898.0\n",
      "923 : 8391.5\n",
      "938 : 2912.5\n",
      "944 : 919.5\n",
      "950 : 6926.0\n",
      "969 : 11242.5\n",
      "976 : 19124.5\n",
      "996 : 882.5\n",
      "998 : 880.5\n",
      "1000 : 884.0\n",
      "1004 : 881.0\n",
      "1006 : 885.0\n",
      "1008 : 888.0\n",
      "1017 : 9580.5\n",
      "1027 : 4058.0\n",
      "1034 : 875.0\n",
      "1038 : 872.0\n",
      "1041 : 868.5\n",
      "1045 : 873.5\n",
      "1052 : 5317.0\n",
      "1066 : 863.0\n",
      "1069 : 866.5\n",
      "1073 : 879.0\n",
      "1083 : 10124.0\n",
      "1092 : 881.0\n",
      "1098 : 6735.5\n",
      "1112 : 876.0\n",
      "1116 : 850.5\n",
      "1121 : 846.0\n",
      "1124 : 845.5\n",
      "1128 : 843.0\n",
      "1130 : 844.0\n",
      "1133 : 843.0\n",
      "1136 : 843.5\n",
      "1139 : 841.0\n",
      "1141 : 840.0\n",
      "1143 : 842.0\n",
      "1145 : 838.5\n",
      "1147 : 839.0\n",
      "1149 : 842.5\n",
      "1151 : 839.0\n",
      "1153 : 839.0\n",
      "1158 : 871.5\n",
      "1165 : 841.0\n",
      "1168 : 842.0\n",
      "1174 : 853.0\n",
      "1180 : 6643.0\n",
      "1190 : 846.0\n",
      "1194 : 997.0\n",
      "1200 : 840.0\n",
      "1203 : 838.0\n",
      "1205 : 841.0\n",
      "1207 : 840.0\n",
      "1209 : 846.5\n",
      "1220 : 15354.0\n",
      "1227 : 880.0\n",
      "1230 : 939.0\n",
      "1233 : 921.0\n",
      "1238 : 829.5\n",
      "1243 : 826.0\n",
      "1245 : 827.0\n",
      "1250 : 825.5\n",
      "1255 : 822.5\n",
      "1258 : 823.0\n",
      "1261 : 819.5\n",
      "1264 : 834.0\n",
      "1267 : 821.0\n",
      "1274 : 1288.0\n",
      "1280 : 818.0\n",
      "1284 : 816.5\n",
      "1286 : 817.0\n",
      "1290 : 819.0\n",
      "1292 : 819.0\n",
      "1302 : 4623.5\n",
      "1309 : 823.0\n",
      "1313 : 837.0\n",
      "1319 : 808.0\n",
      "1324 : 809.0\n",
      "1327 : 807.0\n",
      "1332 : 805.0\n",
      "1334 : 805.0\n",
      "1336 : 807.0\n",
      "1342 : 809.5\n",
      "1345 : 804.5\n",
      "1351 : 818.0\n",
      "1355 : 905.0\n",
      "1360 : 799.5\n",
      "1362 : 798.0\n",
      "1365 : 805.0\n",
      "1369 : 800.5\n",
      "1376 : 1443.5\n",
      "1389 : 818.0\n"
     ]
    }
   ],
   "source": [
    "for i in maxima[0]:\n",
    "    print(f'{i} : {spectrum[i]}')"
   ]
  },
  {
   "cell_type": "code",
   "execution_count": 54,
   "metadata": {},
   "outputs": [
    {
     "data": {
      "text/plain": [
       "array([   1,    3,    6,   12,   15,   18,   23,   28,   31,   33,   37,\n",
       "         39,   45,   47,   51,   54,   57,   61,   65,   68,   72,   74,\n",
       "         77,   79,   85,   87,   89,   91,   95,   97,  100,  106,  110,\n",
       "        114,  117,  121,  124,  126,  128,  130,  132,  135,  141,  144,\n",
       "        147,  149,  152,  156,  159,  164,  166,  169,  174,  179,  181,\n",
       "        183,  185,  188,  190,  193,  195,  197,  200,  202,  205,  207,\n",
       "        212,  214,  216,  219,  223,  225,  230,  232,  235,  238,  240,\n",
       "        243,  248,  252,  254,  257,  259,  262,  264,  269,  272,  277,\n",
       "        281,  284,  286,  291,  296,  298,  303,  305,  307,  311,  316,\n",
       "        321,  323,  325,  329,  337,  339,  341,  345,  348,  352,  356,\n",
       "        360,  362,  367,  370,  374,  376,  378,  383,  387,  390,  392,\n",
       "        395,  397,  399,  402,  404,  409,  411,  413,  417,  423,  426,\n",
       "        430,  432,  436,  438,  444,  453,  455,  458,  461,  465,  467,\n",
       "        469,  472,  475,  478,  482,  487,  490,  493,  495,  497,  500,\n",
       "        504,  509,  515,  517,  523,  526,  532,  535,  537,  544,  546,\n",
       "        548,  553,  559,  563,  569,  571,  573,  575,  577,  580,  586,\n",
       "        593,  595,  597,  599,  604,  609,  612,  614,  616,  621,  623,\n",
       "        625,  627,  630,  634,  637,  640,  643,  650,  657,  659,  661,\n",
       "        664,  666,  668,  675,  677,  682,  686,  694,  696,  699,  704,\n",
       "        706,  710,  714,  718,  722,  728,  733,  739,  744,  750,  762,\n",
       "        774,  782,  798,  806,  810,  816,  820,  822,  827,  832,  837,\n",
       "        839,  849,  857,  866,  870,  875,  883,  891,  895,  904,  913,\n",
       "        923,  938,  944,  950,  969,  976,  992,  996,  998, 1000, 1004,\n",
       "       1006, 1008, 1017, 1027, 1034, 1038, 1041, 1045, 1052, 1066, 1069,\n",
       "       1073, 1083, 1092, 1098, 1106, 1112, 1116, 1121, 1124, 1128, 1130,\n",
       "       1133, 1136, 1139, 1141, 1143, 1145, 1147, 1149, 1151, 1153, 1158,\n",
       "       1165, 1168, 1174, 1180, 1190, 1194, 1200, 1203, 1205, 1207, 1209,\n",
       "       1220, 1227, 1230, 1233, 1238, 1243, 1245, 1250, 1255, 1258, 1261,\n",
       "       1264, 1267, 1274, 1280, 1284, 1286, 1290, 1292, 1302, 1309, 1313,\n",
       "       1316, 1319, 1324, 1327, 1332, 1334, 1336, 1342, 1345, 1351, 1355,\n",
       "       1360, 1362, 1365, 1369, 1376, 1389], dtype=int64)"
      ]
     },
     "execution_count": 54,
     "metadata": {},
     "output_type": "execute_result"
    }
   ],
   "source": [
    "from scipy.signal import find_peaks, peak_prominences\n",
    "\n",
    "peaks, _ = find_peaks(spectrum)\n",
    "peaks"
   ]
  },
  {
   "cell_type": "code",
   "execution_count": 55,
   "metadata": {},
   "outputs": [
    {
     "data": {
      "text/plain": [
       "336"
      ]
     },
     "execution_count": 55,
     "metadata": {},
     "output_type": "execute_result"
    }
   ],
   "source": [
    "prominences = peak_prominences(spectrum, peaks)[0]\n",
    "len(prominences)"
   ]
  },
  {
   "cell_type": "code",
   "execution_count": 40,
   "metadata": {},
   "outputs": [
    {
     "data": {
      "text/plain": [
       "[<matplotlib.lines.Line2D at 0x2d6f41ee0a0>]"
      ]
     },
     "execution_count": 40,
     "metadata": {},
     "output_type": "execute_result"
    },
    {
     "data": {
      "image/png": "[encoded data removed]",
      "text/plain": [
       "<Figure size 432x288 with 1 Axes>"
      ]
     },
     "metadata": {
      "needs_background": "light"
     },
     "output_type": "display_data"
    }
   ],
   "source": [
    "plt.plot(peaks, prominences)"
   ]
  },
  {
   "cell_type": "code",
   "execution_count": 47,
   "metadata": {},
   "outputs": [
    {
     "data": {
      "text/plain": [
       "(41827.5, 762)"
      ]
     },
     "execution_count": 47,
     "metadata": {},
     "output_type": "execute_result"
    }
   ],
   "source": [
    "filtered_peaks = []\n",
    "filtered_pixel = []\n",
    "n=0\n",
    "k=0\n",
    "for i in prominences:\n",
    "    if i > k:\n",
    "        k=i\n",
    "        j = peaks[n]\n",
    "        filtered_peaks.append(j)\n",
    "\n",
    "    n+=1\n",
    "\n",
    "k, j\n",
    "#dit is eigenlijk om van het aantal counts naar de distributie te gaan (spectral irradiance)\n",
    "# deze is waarschijnlij niet correct en dient veranderd te worden"
   ]
  },
  {
   "cell_type": "code",
   "execution_count": 42,
   "metadata": {},
   "outputs": [
    {
     "data": {
      "text/plain": [
       "Text(0, 0.5, 'intensity (counts)')"
      ]
     },
     "execution_count": 42,
     "metadata": {},
     "output_type": "execute_result"
    },
    {
     "data": {
      "image/png": "[encoded data removed]",
      "text/plain": [
       "<Figure size 432x288 with 1 Axes>"
      ]
     },
     "metadata": {
      "needs_background": "light"
     },
     "output_type": "display_data"
    }
   ],
   "source": [
    "#plt.plot()\n",
    "#plt.xlabel(\"pixel number\")\n",
    "#plt.ylabel(\"intensity (counts)\")"
   ]
  },
  {
   "cell_type": "code",
   "execution_count": 43,
   "metadata": {},
   "outputs": [],
   "source": [
    "#dient verder aangepast te worden voor het vergelijken met de bekende neon-golflengtelijnen\n",
    "#deze lijne zijn in een plaatje weergeven van de opdracht maandag maar is niet in een file gedaan.\n",
    "# tips: niet alle punten hoeven in de fit voor de ijking, neem slechts een aantal golflengtes/pixel nums\n",
    "\n",
    "#kan ook met zon & fraunhoverlijnen\n",
    "\n",
    "neon_lambda_A = [5852.49, 6143.06, 6096.16, 6266.49, 6402.25, 6717.04, 7032.41, 7245.17]\n"
   ]
  },
  {
   "cell_type": "code",
   "execution_count": 63,
   "metadata": {},
   "outputs": [
    {
     "data": {
      "text/plain": [
       "<matplotlib.collections.PathCollection at 0x2d6f7059730>"
      ]
     },
     "execution_count": 63,
     "metadata": {},
     "output_type": "execute_result"
    },
    {
     "data": {
      "image/png": "[encoded data removed]",
      "text/plain": [
       "<Figure size 432x288 with 1 Axes>"
      ]
     },
     "metadata": {
      "needs_background": "light"
     },
     "output_type": "display_data"
    }
   ],
   "source": [
    "plt.xlabel('pixel')\n",
    "plt.ylabel('intesnity (counts)')\n",
    "plt.plot(spectrum)\n",
    "plt.scatter(peaks, prominences, color=\"red\")"
   ]
  },
  {
   "cell_type": "code",
   "execution_count": 68,
   "metadata": {},
   "outputs": [
    {
     "data": {
      "text/plain": [
       "[762, 857, 875, 969, 976, 1017, 1083, 1220]"
      ]
     },
     "execution_count": 68,
     "metadata": {},
     "output_type": "execute_result"
    }
   ],
   "source": [
    "peaks_new = []\n",
    "prominences_new = []\n",
    "n=0\n",
    "for i in prominences:\n",
    "    if i > 8000:\n",
    "        prominences_new.append(i)\n",
    "        peaks_new.append(peaks[n])\n",
    "    n+=1\n",
    "\n",
    "peaks_new\n",
    "    "
   ]
  },
  {
   "cell_type": "code",
   "execution_count": 72,
   "metadata": {},
   "outputs": [
    {
     "data": {
      "text/plain": [
       "[<matplotlib.lines.Line2D at 0x2d6f7510940>]"
      ]
     },
     "execution_count": 72,
     "metadata": {},
     "output_type": "execute_result"
    },
    {
     "data": {
      "image/png": "[encoded data removed]",
      "text/plain": [
       "<Figure size 432x288 with 1 Axes>"
      ]
     },
     "metadata": {
      "needs_background": "light"
     },
     "output_type": "display_data"
    }
   ],
   "source": [
    "plt.scatter(peaks_new, prominences_new, color=\"red\")\n",
    "plt.plot(spectrum)"
   ]
  },
  {
   "cell_type": "code",
   "execution_count": 75,
   "metadata": {},
   "outputs": [
    {
     "data": {
      "text/plain": [
       "Text(0, 0.5, 'pixel number')"
      ]
     },
     "execution_count": 75,
     "metadata": {},
     "output_type": "execute_result"
    },
    {
     "data": {
      "image/png": "[encoded data removed]",
      "text/plain": [
       "<Figure size 432x288 with 1 Axes>"
      ]
     },
     "metadata": {
      "needs_background": "light"
     },
     "output_type": "display_data"
    }
   ],
   "source": [
    "peaks_golf = [5852.49, 6096.16, 6143.06, 6382.99, 6402.25, 6506.53, 6678.28, 7032.41]\n",
    "plt.plot(peaks_golf, peaks_new, '.')\n",
    "plt.xlabel(\"wavelength (angstrom)\")\n",
    "plt.ylabel(\"pixel number\")"
   ]
  },
  {
   "cell_type": "code",
   "execution_count": 87,
   "metadata": {},
   "outputs": [
    {
     "data": {
      "text/html": [
       "<h2> Model</h2> Model(linear) <h2>Fit Statistics</h2><table><tr><td>fitting method</td><td>leastsq</td><td></td></tr><tr><td># function evals</td><td>6</td><td></td></tr><tr><td># data points</td><td>8</td><td></td></tr><tr><td># variables</td><td>2</td><td></td></tr><tr><td>chi-square</td><td> 8.75220201</td><td></td></tr><tr><td>reduced chi-square</td><td> 1.45870033</td><td></td></tr><tr><td>Akaike info crit.</td><td> 4.71891028</td><td></td></tr><tr><td>Bayesian info crit.</td><td> 4.87779336</td><td></td></tr></table><h2>Variables</h2><table><tr><th> name </th><th> value </th><th> standard error </th><th> relative error </th><th> initial value </th><th> min </th><th> max </th><th> vary </th></tr><tr><td> slope </td><td>  2.57550836 </td><td>  0.00319863 </td><td> (0.12%) </td><td> 1.0 </td><td>        -inf </td><td>         inf </td><td> True </td></tr><tr><td> intercept </td><td>  3888.85008 </td><td>  3.13152534 </td><td> (0.08%) </td><td> 0.0 </td><td>        -inf </td><td>         inf </td><td> True </td></tr></table><h2>Correlations (unreported correlations are < 0.100)</h2><table><tr><td>slope</td><td>intercept</td><td>-0.9907</td></tr></table>"
      ],
      "text/plain": [
       "<lmfit.model.ModelResult at 0x2d6fa279880>"
      ]
     },
     "execution_count": 87,
     "metadata": {},
     "output_type": "execute_result"
    }
   ],
   "source": [
    "from lmfit import models\n",
    "model = models.LinearModel()\n",
    "fit = model.fit(peaks_golf, x=peaks_new)\n",
    "fit"
   ]
  },
  {
   "cell_type": "code",
   "execution_count": 82,
   "metadata": {},
   "outputs": [
    {
     "data": {
      "image/png": "[encoded data removed]",
      "text/plain": [
       "<Figure size 432x432 with 2 Axes>"
      ]
     },
     "execution_count": 82,
     "metadata": {},
     "output_type": "execute_result"
    },
    {
     "data": {
      "image/png": "[encoded data removed]",
      "text/plain": [
       "<Figure size 432x432 with 2 Axes>"
      ]
     },
     "metadata": {
      "needs_background": "light"
     },
     "output_type": "display_data"
    }
   ],
   "source": [
    "fit.plot()"
   ]
  },
  {
   "cell_type": "code",
   "execution_count": 86,
   "metadata": {},
   "outputs": [
    {
     "data": {
      "text/plain": [
       "array([-1509.91199954, -1509.52373027, -1509.135461  , ...,\n",
       "        -970.99425525,  -970.60598598,  -970.21771671])"
      ]
     },
     "execution_count": 86,
     "metadata": {},
     "output_type": "execute_result"
    }
   ],
   "source": [
    "def pixels_to_wavelenghts(pixel, slope, intercept):\n",
    "    '''\n",
    "    This function converts pixel values to wavelengths using a linear model to be determined by a fit.\n",
    "    '''\n",
    "    return slope * pixel + intercept\n",
    "\n",
    "wavelengths = pixels_to_wavelenghts(range(len(spectrum)), fit.values['slope'], fit.values['intercept'])\n",
    "wavelengths"
   ]
  },
  {
   "cell_type": "code",
   "execution_count": null,
   "metadata": {},
   "outputs": [],
   "source": []
  }
 ],
 "metadata": {
  "interpreter": {
   "hash": "2860849b453cb056440a6b97e05d680161483f1229abb2051cee0b822c579608"
  },
  "kernelspec": {
   "display_name": "Python 3.9.7 64-bit ('zon': conda)",
   "language": "python",
   "name": "python3"
  },
  "language_info": {
   "codemirror_mode": {
    "name": "ipython",
    "version": 3
   },
   "file_extension": ".py",
   "mimetype": "text/x-python",
   "name": "python",
   "nbconvert_exporter": "python",
   "pygments_lexer": "ipython3",
   "version": "3.9.7"
  },
  "orig_nbformat": 4
 },
 "nbformat": 4,
 "nbformat_minor": 2
}
