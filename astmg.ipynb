{
 "cells": [
  {
   "cell_type": "code",
   "execution_count": 2,
   "metadata": {},
   "outputs": [],
   "source": [
    "import pandas as pd"
   ]
  },
  {
   "cell_type": "code",
   "execution_count": 4,
   "metadata": {},
   "outputs": [],
   "source": [
    "file_astmg = 'C:/Users/bvptr/academia/physics/year2/natuurkunde_en_sterrenkunde_practicum2/solar_physics_non_git/solar_physics_data/astmg173.xls'"
   ]
  },
  {
   "cell_type": "code",
   "execution_count": 18,
   "metadata": {},
   "outputs": [],
   "source": [
    "#dfs = pd.read_excel(file_astmg, sheet_name=None)\n",
    "df = pd.read_excel(file_astmg, header=[1]).reset_index()"
   ]
  },
  {
   "cell_type": "code",
   "execution_count": 19,
   "metadata": {},
   "outputs": [
    {
     "data": {
      "text/html": [
       "<div>\n",
       "<style scoped>\n",
       "    .dataframe tbody tr th:only-of-type {\n",
       "        vertical-align: middle;\n",
       "    }\n",
       "\n",
       "    .dataframe tbody tr th {\n",
       "        vertical-align: top;\n",
       "    }\n",
       "\n",
       "    .dataframe thead th {\n",
       "        text-align: right;\n",
       "    }\n",
       "</style>\n",
       "<table border=\"1\" class=\"dataframe\">\n",
       "  <thead>\n",
       "    <tr style=\"text-align: right;\">\n",
       "      <th></th>\n",
       "      <th>index</th>\n",
       "      <th>Wvlgth nm</th>\n",
       "      <th>Etr W*m-2*nm-1</th>\n",
       "      <th>Global tilt  W*m-2*nm-1</th>\n",
       "      <th>Direct+circumsolar W*m-2*nm-1</th>\n",
       "    </tr>\n",
       "  </thead>\n",
       "  <tbody>\n",
       "    <tr>\n",
       "      <th>0</th>\n",
       "      <td>0</td>\n",
       "      <td>280.0</td>\n",
       "      <td>0.082</td>\n",
       "      <td>4.730900e-23</td>\n",
       "      <td>2.536100e-26</td>\n",
       "    </tr>\n",
       "    <tr>\n",
       "      <th>1</th>\n",
       "      <td>1</td>\n",
       "      <td>280.5</td>\n",
       "      <td>0.099</td>\n",
       "      <td>1.230700e-21</td>\n",
       "      <td>1.091700e-24</td>\n",
       "    </tr>\n",
       "    <tr>\n",
       "      <th>2</th>\n",
       "      <td>2</td>\n",
       "      <td>281.0</td>\n",
       "      <td>0.150</td>\n",
       "      <td>5.689500e-21</td>\n",
       "      <td>6.125300e-24</td>\n",
       "    </tr>\n",
       "    <tr>\n",
       "      <th>3</th>\n",
       "      <td>3</td>\n",
       "      <td>281.5</td>\n",
       "      <td>0.212</td>\n",
       "      <td>1.566200e-19</td>\n",
       "      <td>2.747900e-22</td>\n",
       "    </tr>\n",
       "    <tr>\n",
       "      <th>4</th>\n",
       "      <td>4</td>\n",
       "      <td>282.0</td>\n",
       "      <td>0.267</td>\n",
       "      <td>1.194600e-18</td>\n",
       "      <td>2.834600e-21</td>\n",
       "    </tr>\n",
       "  </tbody>\n",
       "</table>\n",
       "</div>"
      ],
      "text/plain": [
       "   index  Wvlgth nm  Etr W*m-2*nm-1  Global tilt  W*m-2*nm-1  \\\n",
       "0      0      280.0           0.082             4.730900e-23   \n",
       "1      1      280.5           0.099             1.230700e-21   \n",
       "2      2      281.0           0.150             5.689500e-21   \n",
       "3      3      281.5           0.212             1.566200e-19   \n",
       "4      4      282.0           0.267             1.194600e-18   \n",
       "\n",
       "   Direct+circumsolar W*m-2*nm-1  \n",
       "0                   2.536100e-26  \n",
       "1                   1.091700e-24  \n",
       "2                   6.125300e-24  \n",
       "3                   2.747900e-22  \n",
       "4                   2.834600e-21  "
      ]
     },
     "execution_count": 19,
     "metadata": {},
     "output_type": "execute_result"
    }
   ],
   "source": [
    "df.head()"
   ]
  },
  {
   "cell_type": "code",
   "execution_count": 28,
   "metadata": {},
   "outputs": [
    {
     "data": {
      "text/plain": [
       "Index(['index', 'Wvlgth nm', 'Etr W*m-2*nm-1', 'Global tilt  W*m-2*nm-1',\n",
       "       'Direct+circumsolar W*m-2*nm-1'],\n",
       "      dtype='object')"
      ]
     },
     "execution_count": 28,
     "metadata": {},
     "output_type": "execute_result"
    }
   ],
   "source": [
    "df.keys()"
   ]
  },
  {
   "cell_type": "code",
   "execution_count": 37,
   "metadata": {},
   "outputs": [
    {
     "name": "stdout",
     "output_type": "stream",
     "text": [
      "0    0\n",
      "1    1\n",
      "2    2\n",
      "3    3\n",
      "4    4\n",
      "Name: index, dtype: int64\n",
      "0    280.0\n",
      "1    280.5\n",
      "2    281.0\n",
      "3    281.5\n",
      "4    282.0\n",
      "Name: Wvlgth nm, dtype: float64\n",
      "0    0.082\n",
      "1    0.099\n",
      "2    0.150\n",
      "3    0.212\n",
      "4    0.267\n",
      "Name: Etr W*m-2*nm-1, dtype: float64\n",
      "0    4.730900e-23\n",
      "1    1.230700e-21\n",
      "2    5.689500e-21\n",
      "3    1.566200e-19\n",
      "4    1.194600e-18\n",
      "Name: Global tilt  W*m-2*nm-1, dtype: float64\n",
      "0    2.536100e-26\n",
      "1    1.091700e-24\n",
      "2    6.125300e-24\n",
      "3    2.747900e-22\n",
      "4    2.834600e-21\n",
      "Name: Direct+circumsolar W*m-2*nm-1, dtype: float64\n"
     ]
    }
   ],
   "source": [
    "for i in df:\n",
    "    print(df[i].head())"
   ]
  },
  {
   "cell_type": "code",
   "execution_count": 66,
   "metadata": {},
   "outputs": [
    {
     "data": {
      "image/png": "[encoded data removed]",
      "text/plain": [
       "<Figure size 432x288 with 1 Axes>"
      ]
     },
     "metadata": {
      "needs_background": "light"
     },
     "output_type": "display_data"
    }
   ],
   "source": [
    "import matplotlib.pyplot as plt \n",
    "for key, val in df.items():\n",
    "    if key in ['index', 'Wvlgth nm']:\n",
    "        continue\n",
    "    #plt.plot(df['Wvlgth nm'], df[key], '.')\n",
    "    plt.legend(df.keys()[2:]) # TODO: it has trouble with the last key for some reason.\n",
    "    plt.xlabel(\"Wavelength (nm)\")\n",
    "    plt.ylabel(\"Spectral irradiance W m^-2 nm^-1\")\n",
    "    plt.plot(df['Wvlgth nm'], df[key])"
   ]
  },
  {
   "cell_type": "code",
   "execution_count": null,
   "metadata": {},
   "outputs": [],
   "source": []
  }
 ],
 "metadata": {
  "interpreter": {
   "hash": "d7c6a17af8d17b7a7d70ad977ab0550fcbcb4738d96dd52e3eeab03a86aeccfc"
  },
  "kernelspec": {
   "display_name": "Python 3.9.7 64-bit ('solar_physics': conda)",
   "language": "python",
   "name": "python3"
  },
  "language_info": {
   "codemirror_mode": {
    "name": "ipython",
    "version": 3
   },
   "file_extension": ".py",
   "mimetype": "text/x-python",
   "name": "python",
   "nbconvert_exporter": "python",
   "pygments_lexer": "ipython3",
   "version": "3.9.7"
  },
  "orig_nbformat": 4
 },
 "nbformat": 4,
 "nbformat_minor": 2
}
